{
 "cells": [
  {
   "cell_type": "code",
   "execution_count": 2,
   "metadata": {},
   "outputs": [],
   "source": [
    "import pandas as pd\n",
    "from bs4 import BeautifulSoup\n",
    "import requests"
   ]
  },
  {
   "cell_type": "code",
   "execution_count": 3,
   "metadata": {},
   "outputs": [],
   "source": [
    "url = 'https://www.yelp.com/search?find_desc=Thai+Restaurant&find_loc=Upper+East+Side,+Manhattan,+NY&start=0&sortby=rating'"
   ]
  },
  {
   "cell_type": "code",
   "execution_count": 9,
   "metadata": {},
   "outputs": [],
   "source": [
    "response = requests.get(url)"
   ]
  },
  {
   "cell_type": "code",
   "execution_count": 10,
   "metadata": {},
   "outputs": [
    {
     "data": {
      "text/plain": [
       "<Response [200]>"
      ]
     },
     "execution_count": 10,
     "metadata": {},
     "output_type": "execute_result"
    }
   ],
   "source": [
    "response"
   ]
  },
  {
   "cell_type": "code",
   "execution_count": 11,
   "metadata": {},
   "outputs": [
    {
     "data": {
      "text/plain": [
       "'<!DOCTYPE HTML>\\n\\n<!--[if lt IE 7 ]> <html xmlns:fb=\"http://www.facebook.com/2008/fbml\" class=\"ie6 ie'"
      ]
     },
     "execution_count": 11,
     "metadata": {},
     "output_type": "execute_result"
    }
   ],
   "source": [
    "response.text[:100]"
   ]
  },
  {
   "cell_type": "code",
   "execution_count": 12,
   "metadata": {},
   "outputs": [],
   "source": [
    "soup = BeautifulSoup(response.text, 'html.parser')"
   ]
  },
  {
   "cell_type": "code",
   "execution_count": 13,
   "metadata": {},
   "outputs": [
    {
     "data": {
      "text/plain": [
       "<span class=\"pseudo-input_text\">Find</span>"
      ]
     },
     "execution_count": 13,
     "metadata": {},
     "output_type": "execute_result"
    }
   ],
   "source": [
    "soup.find('span')"
   ]
  },
  {
   "cell_type": "code",
   "execution_count": 14,
   "metadata": {},
   "outputs": [
    {
     "data": {
      "text/plain": [
       "[<span class=\"pseudo-input_text\">Find</span>,\n",
       " <span class=\"pseudo-input_field-holder\">\n",
       " <input aria-autocomplete=\"list\" autocomplete=\"off\" class=\"main-search_field pseudo-input_field\" id=\"find_desc\" maxlength=\"64\" name=\"find_desc\" placeholder=\"tacos, cheap dinner, Max’s\" tabindex=\"1\" value=\"Thai Restaurant\"/>\n",
       " </span>,\n",
       " <span class=\"pseudo-input_text\">Near</span>,\n",
       " <span class=\"main-search_field-holder pseudo-input_field-holder\">\n",
       " <input aria-autocomplete=\"list\" autocomplete=\"off\" class=\"main-search_field pseudo-input_field\" data-query=\"Upper East Side, Manhattan, NY\" id=\"dropperText_Mast\" maxlength=\"80\" name=\"find_loc\" placeholder=\"address, neighborhood, city, state or zip\" tabindex=\"2\" value=\"Upper East Side, Manhattan, NY\"/>\n",
       " <input name=\"ns\" type=\"hidden\" value=\"1\"/>\n",
       " </span>,\n",
       " <span class=\"main-search_action-icon-wrap js-search-icon-wrap\">\n",
       " <span aria-hidden=\"true\" class=\"icon icon--24-search icon--size-24 icon--inverse icon--fallback-inverted\" style=\"width: 24px; height: 24px;\">\n",
       " <svg class=\"icon_svg\" role=\"img\">\n",
       " <use xlink:href=\"#24x24_search\"></use>\n",
       " </svg>\n",
       " </span>\n",
       " <span class=\"u-offscreen\">Search</span>\n",
       " </span>,\n",
       " <span aria-hidden=\"true\" class=\"icon icon--24-search icon--size-24 icon--inverse icon--fallback-inverted\" style=\"width: 24px; height: 24px;\">\n",
       " <svg class=\"icon_svg\" role=\"img\">\n",
       " <use xlink:href=\"#24x24_search\"></use>\n",
       " </svg>\n",
       " </span>,\n",
       " <span class=\"u-offscreen\">Search</span>,\n",
       " <span aria-hidden=\"true\" class=\"icon icon--14-triangle-down icon--size-14 icon--inverse icon--fallback-inverted u-triangle-direction-down user-account_button-arrow responsive-visible-large-inline-block\" style=\"width: 14px; height: 14px;\">\n",
       " <svg class=\"icon_svg\" role=\"img\">\n",
       " <use xlink:href=\"#14x14_triangle_down\"></use>\n",
       " </svg>\n",
       " </span>,\n",
       " <span aria-hidden=\"true\" class=\"icon icon--24-hamburger icon--size-24 icon--inverse icon--fallback-inverted drop-menu-link_open\" style=\"width: 24px; height: 24px;\">\n",
       " <svg class=\"icon_svg\" role=\"img\">\n",
       " <use xlink:href=\"#24x24_hamburger\"></use>\n",
       " </svg>\n",
       " </span>,\n",
       " <span aria-hidden=\"true\" class=\"icon icon--24-close icon--size-24 icon--inverse icon--fallback-inverted drop-menu-link_close\" style=\"width: 24px; height: 24px;\">\n",
       " <svg class=\"icon_svg\" role=\"img\">\n",
       " <use xlink:href=\"#24x24_close\"></use>\n",
       " </svg>\n",
       " </span>]"
      ]
     },
     "execution_count": 14,
     "metadata": {},
     "output_type": "execute_result"
    }
   ],
   "source": [
    "soup.find_all('span')[:10]"
   ]
  },
  {
   "cell_type": "code",
   "execution_count": 15,
   "metadata": {},
   "outputs": [
    {
     "data": {
      "text/plain": [
       "<a href=\"#header_find_form\" rel=\"nofollow\">\n",
       "                        Skip to Search Form\n",
       "                    </a>"
      ]
     },
     "execution_count": 15,
     "metadata": {},
     "output_type": "execute_result"
    }
   ],
   "source": [
    "soup.find('a')"
   ]
  },
  {
   "cell_type": "code",
   "execution_count": 16,
   "metadata": {},
   "outputs": [
    {
     "data": {
      "text/plain": [
       "<a class=\"biz-name js-analytics-click\" data-analytics-label=\"biz-name\" data-hovercard-id=\"CBvpXkTg8p0DR1QuXxRtqw\" href=\"/adredir?ad_business_id=fZuIszXbPoyzYMDSYd3oOA&amp;campaign_id=RVuNpFQ1aZeDAZ5lF_vLQg&amp;click_origin=search_results&amp;placement=above_search&amp;redirect_url=https%3A%2F%2Fwww.yelp.com%2Fbiz%2Fghang-thai-kitchen-brooklyn&amp;request_id=dde45e81f045344e&amp;signature=7b9f20c795e9d5e055082509ebefa312dd6783e193ce77178b780b5f1f211c88&amp;slot=0\" target=\"_blank\"><span>Ghang Thai Kitchen</span></a>"
      ]
     },
     "execution_count": 16,
     "metadata": {},
     "output_type": "execute_result"
    }
   ],
   "source": [
    "soup.find('a', {'data-analytics-label': 'biz-name'})"
   ]
  },
  {
   "cell_type": "code",
   "execution_count": 17,
   "metadata": {},
   "outputs": [
    {
     "data": {
      "text/plain": [
       "'Ghang Thai Kitchen'"
      ]
     },
     "execution_count": 17,
     "metadata": {},
     "output_type": "execute_result"
    }
   ],
   "source": [
    "soup.find('a', {'data-analytics-label': 'biz-name'}).text"
   ]
  },
  {
   "cell_type": "code",
   "execution_count": 18,
   "metadata": {},
   "outputs": [],
   "source": [
    "rests = soup.find_all('a', {'data-analytics-label': 'biz-name'})"
   ]
  },
  {
   "cell_type": "code",
   "execution_count": 19,
   "metadata": {},
   "outputs": [
    {
     "name": "stdout",
     "output_type": "stream",
     "text": [
      "Ghang Thai Kitchen\n",
      "Le Botaniste\n",
      "SalaThai Restaurant\n",
      "Bangklyn East Harlem\n",
      "Sushi Ishikawa\n",
      "Up Thai\n",
      "Peng’s Noodle Folk\n",
      "Angkor Cambodian Bistro\n",
      "Tanoshi Sushi Sake Bar\n",
      "Malii\n",
      "PuTawn Local Thai Kitchen\n",
      "THEP Thai Restaurant\n",
      "Vietnaam\n",
      "Candle 79\n",
      "Roy’s Fish Market\n",
      "MIGHTY Bowl\n",
      "Kati Shop\n",
      "Pye Boat Noodle\n",
      "Topaz Noodle Bar\n",
      "Bangkok Cuisine Upper East Side\n",
      "Pa Pa Thai Cuisine\n",
      "Xi’an Famous Foods\n",
      "Sukhumvit 51\n",
      "Ginger Root Vegan\n",
      "Jones Wood Foundry\n",
      "Amura Japanese\n",
      "Radiance Tea House and Books\n",
      "Land\n",
      "Persepolis\n",
      "New Ichiro Restaurant\n",
      "Senn Thai Comfort Food\n",
      "Thai72\n",
      "Noodle Fun\n",
      "Thais New York\n",
      "Gu Japanese Fusion Sushi & Bar\n",
      "Flame\n",
      "Pho Shop\n",
      "Ahana\n",
      "Pro Thai\n",
      "Wok 88\n",
      "Andaman Thai Bistro\n",
      "TAO Uptown\n",
      "OBAO\n",
      "Atami Japanese Fusion\n",
      "Omakasa\n",
      "Thai Peppercorn\n",
      "Amber\n",
      "Philippe By Philippe Chow\n",
      "Kobe Sushi\n",
      "Topaz Thai Authentic\n",
      "Ajisai Japanese Fusion\n",
      "Le Viet Cafe\n",
      "MRS. AN Thai\n",
      "Luscious Thai\n",
      "Lilli & Loo\n",
      "Warung Roadside\n",
      "sweetgreen\n",
      "Hunan Delight\n",
      "Bareburger\n",
      "Cafe Evergreen\n",
      "Sushi Gama\n",
      "Jaiya\n",
      "Bua Thai Ramen & Robata Grill\n",
      "Thongyib Thai Cart\n",
      "Luckyim Thai truck\n",
      "Little Thai Kitchen\n",
      "Hale and Hearty Soups\n",
      "Hanabi\n",
      "sweetgreen\n",
      "Chopt Creative Salad Co.\n",
      "Spice Saigon\n",
      "Legend 72\n",
      "Harvest Chinese & Thai Cuisine\n",
      "A plus Thai Place\n",
      "Bareburger\n",
      "Thai @ Lex\n",
      "64st Garden Cafe\n",
      "Charley Mom Restaurant\n",
      "Spice\n",
      "Spice Noodle\n",
      "New Sunny East 88\n"
     ]
    }
   ],
   "source": [
    "for rest in rests:\n",
    "    print(rest.text)"
   ]
  },
  {
   "cell_type": "code",
   "execution_count": 20,
   "metadata": {},
   "outputs": [],
   "source": [
    "ratings = soup.find_all('div', {'class': 'biz-rating'})"
   ]
  },
  {
   "cell_type": "code",
   "execution_count": 21,
   "metadata": {},
   "outputs": [
    {
     "data": {
      "text/plain": [
       "'3.5 star rating'"
      ]
     },
     "execution_count": 21,
     "metadata": {},
     "output_type": "execute_result"
    }
   ],
   "source": [
    "soup.find('div', {'class': 'biz-rating'}).div.attrs['title']"
   ]
  },
  {
   "cell_type": "code",
   "execution_count": 22,
   "metadata": {},
   "outputs": [
    {
     "name": "stdout",
     "output_type": "stream",
     "text": [
      "3.5 star rating\n",
      "4.5 star rating\n",
      "5.0 star rating\n",
      "4.5 star rating\n",
      "4.5 star rating\n",
      "4.5 star rating\n",
      "4.5 star rating\n",
      "4.5 star rating\n",
      "4.5 star rating\n",
      "4.5 star rating\n",
      "4.5 star rating\n",
      "4.5 star rating\n",
      "4.0 star rating\n",
      "4.0 star rating\n",
      "4.5 star rating\n",
      "4.5 star rating\n",
      "5.0 star rating\n",
      "4.0 star rating\n",
      "4.0 star rating\n",
      "4.0 star rating\n",
      "4.5 star rating\n",
      "4.0 star rating\n",
      "4.0 star rating\n",
      "4.0 star rating\n",
      "4.0 star rating\n",
      "4.0 star rating\n",
      "4.0 star rating\n",
      "4.0 star rating\n",
      "4.0 star rating\n",
      "4.0 star rating\n",
      "4.0 star rating\n",
      "4.0 star rating\n",
      "4.0 star rating\n",
      "4.0 star rating\n",
      "4.5 star rating\n",
      "4.0 star rating\n",
      "4.0 star rating\n",
      "4.0 star rating\n",
      "4.0 star rating\n",
      "3.5 star rating\n",
      "4.0 star rating\n",
      "3.5 star rating\n",
      "3.5 star rating\n",
      "4.0 star rating\n",
      "4.0 star rating\n",
      "3.5 star rating\n",
      "4.0 star rating\n",
      "3.5 star rating\n",
      "3.5 star rating\n",
      "3.5 star rating\n",
      "3.5 star rating\n",
      "3.5 star rating\n",
      "4.0 star rating\n",
      "3.5 star rating\n",
      "3.5 star rating\n",
      "4.5 star rating\n",
      "3.5 star rating\n",
      "3.5 star rating\n",
      "3.5 star rating\n",
      "3.5 star rating\n",
      "3.5 star rating\n",
      "3.5 star rating\n",
      "4.0 star rating\n",
      "4.5 star rating\n",
      "4.0 star rating\n",
      "3.5 star rating\n",
      "3.5 star rating\n",
      "3.5 star rating\n",
      "3.5 star rating\n",
      "3.5 star rating\n",
      "3.5 star rating\n",
      "3.5 star rating\n",
      "3.5 star rating\n",
      "3.5 star rating\n",
      "3.5 star rating\n",
      "3.5 star rating\n",
      "4.0 star rating\n",
      "3.5 star rating\n",
      "3.0 star rating\n",
      "3.5 star rating\n",
      "3.5 star rating\n"
     ]
    }
   ],
   "source": [
    "for i in ratings:\n",
    "    print(i.div.attrs['title'])"
   ]
  },
  {
   "cell_type": "code",
   "execution_count": 23,
   "metadata": {},
   "outputs": [
    {
     "data": {
      "text/plain": [
       "'\\n                    “A group of us were in neighborhood late on a sat nite Walked into a few Thai restaurants based on yelp reviews Either closing or blaring horrible techno BS music or just unappealing…”\\n                        read more\\n'"
      ]
     },
     "execution_count": 23,
     "metadata": {},
     "output_type": "execute_result"
    }
   ],
   "source": [
    "soup.find('p', {'class': 'snippet'}).text"
   ]
  },
  {
   "cell_type": "code",
   "execution_count": 24,
   "metadata": {},
   "outputs": [],
   "source": [
    "revs = soup.find_all('p', {'class': 'snippet'})"
   ]
  },
  {
   "cell_type": "code",
   "execution_count": 26,
   "metadata": {},
   "outputs": [
    {
     "name": "stdout",
     "output_type": "stream",
     "text": [
      "\n",
      "                    “A group of us were in neighborhood late on a sat nite Walked into a few Thai restaurants based on yelp reviews Either closing or blaring horrible techno BS music or just unappealing…”\n",
      "                        read more\n",
      "\n",
      "\n",
      "                    “placed precisely with a pair of tongs. The second time around they definitely sped up the process when I ordered the Thai inspired Dirty Noodle Soup which came…”\n",
      "                        read more\n",
      "\n",
      "\n",
      "                    “Quite possibly the best eating experience I've had at Thai places in New York. The staff was helpful, place was nice, maybe a little loud when it's totally…”\n",
      "                        read more\n",
      "\n",
      "\n",
      "                    “Love this place. Best Thai food in East Harlem!”\n",
      "                        read more\n",
      "\n",
      "\n",
      "                    “on traditional sushi. He really loves his micro greens, uni, and truffle. He might surprise you with some thai basil. He is also extremely knowledgeable about…”\n",
      "                        read more\n",
      "\n",
      "\n",
      "                    “Best Thai food in NYC that I have had till date. Plenty of veggie options. The wait times on weekend nights is a testimony to its popularity.”\n",
      "                        read more\n",
      "\n",
      "\n",
      "                    “ordering all-taste-the-same Thai restaurants in this hood when I craved for some hearty Asian foods (I ordered at least twice a week that the waitress already…”\n",
      "                        read more\n",
      "\n",
      "\n",
      "                    “I stumbled upon this hidden gem randomly while searching online. The cuisine is Cambodian but very similar to Thai. You have a selection of curries and noodle…”\n",
      "                        read more\n",
      "\n",
      "\n",
      "                    “appetizer was ridiculously amazing. Wrapped in Thai basil and then quickly doused in tempura batter and flash fried, it was amazing. The flavors of the basil…”\n",
      "                        read more\n",
      "\n",
      "\n",
      "                    “Very cute tiny restaurant with cozy, homey decor. It's small, so don't miss it walking by! Had the pumpkin fries which were crispy and tasty. I also got the a…”\n",
      "                        read more\n",
      "\n",
      "\n",
      "                    “Average food, relatively high price, and tricky tip system. It's a small restaurant, offering mostly Thai street food and classic dishes. nothing too fancy.…”\n",
      "                        read more\n",
      "\n",
      "\n",
      "                    “I love their lunch specials. Super affordable. You get a sald/soup, an appetizer, a main course and a thai ice tea for about $10. I really like the fried…”\n",
      "                        read more\n",
      "\n",
      "\n",
      "                    “This spot never fails to hit the spot in my belly. The calamari is must, especially with the dipping sauce and don't forget to add Thai iced tea....”\n",
      "                        read more\n",
      "\n",
      "\n",
      "                    “sweet, and a nice non-alcoholic alternative. My husband and I shared an appetizer of the pad thai which came out completely different than I expected. It was…”\n",
      "                        read more\n",
      "\n",
      "\n",
      "                    “actually use japanese round rice, that makes the sushi taste a lot better. (other places use thai/chinese long grain, which is a lot cheaper, but it doesn't…”\n",
      "                        read more\n",
      "\n",
      "\n",
      "                    “, and the one I went to was called the Bangkok. It included shrimp, mango, fish sauce, rice (white or brown), poached egg, anchovies, shallots, peanuts, and …”\n",
      "                        read more\n",
      "\n",
      "\n",
      "                    “I'm a fan! New place that I found on Yelp, normally I'm not a fan of Thai curries (too much coconut for me). Yet I still gave this place a try. I like the…”\n",
      "                        read more\n",
      "\n",
      "\n",
      "                    “Pye Boat Noodle is a bit of a hole in the wall establishment in the Upper East side that offers authentic Thai dishes - specializing mostly in noodles (broth…”\n",
      "                        read more\n",
      "\n",
      "\n",
      "                    “Yes to this small but functional restaurant. It offers lunch specials and the regular dinner menu is fairly priced as well. On my visits here I had the pad …”\n",
      "                        read more\n",
      "\n",
      "\n",
      "                    “Delicious Thai food. When you first walk it the waiting staff is dressed in traditional Thai clothing. The place is gold with beautiful traditional decor. I…”\n",
      "                        read more\n",
      "\n",
      "\n",
      "                    “Went here with the work crew one evening. Small place, big flavor! One of the best Thai restaurants I've been to. Curry Puffs - legit, basil chicken - legit…”\n",
      "                        read more\n",
      "\n",
      "\n",
      "                    “ever experienced in my life. Not in the sense that it was a painful spiciness (like Thai food) or a more smooth spiciness (like Korean food), it was a…”\n",
      "                        read more\n",
      "\n",
      "\n",
      "                    “is very savory Thai food with good flavor. Both of the dumpling appetizers are great. The Crispy Tilapia was very popular as well. One of the most reasonably…”\n",
      "                        read more\n",
      "\n",
      "\n",
      "                    “obtrusive. i've tried many things on the menu and never had a bad thing. sometimes i feel like 'pan-asian' types of dishes can be done with inferior quality,…”\n",
      "                        read more\n",
      "\n",
      "\n",
      "                    “Been coming here for a while, but standards are wobbling a bit. Ordered pie of the day on Sunday - which turned out to be a Thai chicken curry with noodles.…”\n",
      "                        read more\n",
      "\n",
      "\n",
      "                    “authentic Japanese, Chinese, or Thai at all but yet served all of those cuisines of food. We were seated immediately (7:45 PM on a Sunday night), and ordered…”\n",
      "                        read more\n",
      "\n",
      "\n",
      "                    “and my sister tried the rainforest thai tea latte. Refreshing and not too sweet; some may think it might not be strong enough but I feel the less sugar, the…”\n",
      "                        read more\n",
      "\n",
      "\n",
      "                    “BEST THAI FOOD ON THE UWS!!!!! Land is great, always get the pad thai and calamari - sooooo goood. Even better, they deliver too - always nice and hot. go for…”\n",
      "                        read more\n",
      "\n",
      "\n",
      "                    “of a kind places with Chase banks and H & M clothing stores etc. So better late than never. For date night my husband and I decided to try out this place as…”\n",
      "                        read more\n",
      "\n",
      "\n",
      "                    “We were pretty strapped for food options in the Upper East Side on a Saturday night at about 8:30pm. We were really in the mood for Italian, Thai, or Mexican.…”\n",
      "                        read more\n",
      "\n",
      "\n",
      "                    “Very cute little place with the cool funky atmosphere of Thai street food ( old corrugated metal on the wall, primitive Thai menu sign ( super cool!) Very good…”\n",
      "                        read more\n",
      "\n",
      "\n",
      "                    “We went to Thai 72 Saturday, September 8 - 4 adults and 2 children. It exceeded our expectations and we will definitely be back. We got the appetizer platter…”\n",
      "                        read more\n",
      "\n",
      "\n",
      "                    “I ordered the chicken pad Thai. It left a lot to be desired.”\n",
      "                        read more\n",
      "\n",
      "\n",
      "                    “Chicken Pad Thai: 4/5 Loved the noodles, the proportion of sauce, and the overall dish. Just wish there was more tofu and vegetables. Curry Puffs: 4/5 I'm not…”\n",
      "                        read more\n",
      "\n",
      "\n",
      "                    “We were wanting sushi, this place was perfect. They have a lot of the menu for anything you're craving. We ordered and shared a bento box and the Godzilla…”\n",
      "                        read more\n",
      "\n",
      "\n",
      "                    “Thai, my daughter ordered sushi rolls and my husband ordered the honey almond chicken. Everything...as in everything that we ordered, were freakin' delicious!…”\n",
      "                        read more\n",
      "\n",
      "\n",
      "                    “I was excited to try out this place. It's quite mediocre. Pho is OK. But I tried \"pho xao\" and it's more like pad Thai, only more bland and greasy. Le Viet is…”\n",
      "                        read more\n",
      "\n",
      "\n",
      "                    “Interesting seeing all of the great reviews here. (This review is for delivery) What was delivered was literally a mixed bag. The sushi was pretty good, the…”\n",
      "                        read more\n",
      "\n",
      "\n",
      "                    “Good Pad Thai. Ive gotten it a few times from this place. Never any issues. One concern is the B rating... hopefully whatever issue led to that has been…”\n",
      "                        read more\n",
      "\n",
      "\n",
      "                    “always been cooked to perfection. The only dish that I was not completely satisfied by was their chicken Pad Thai. However, it was still really good (I…”\n",
      "                        read more\n",
      "\n",
      "\n",
      "                    “The waiter thats usually there during lunch time is awesome. The food is hot and delicious. I have had the salmon, drunken noodles and the pad thai which are…”\n",
      "                        read more\n",
      "\n",
      "\n",
      "                    “and suggested some drinks. We ordered a a couple of Apps and for the main course got a special Thai curry soup, it was big enough for the 2 of us. We loved the…”\n",
      "                        read more\n",
      "\n",
      "\n",
      "                    “Wow. Easily the best thai food I've had outside of thailand.I recommend most of dishes we had. The \"sparib on the sugar cane\" appetizer was fantastic. The Pad …”\n",
      "                        read more\n",
      "\n",
      "\n",
      "                    “Shrimp pad thai from lunch special menu is mediocre at best, tasted a bit bland. Delivery was on time though.”\n",
      "                        read more\n",
      "\n",
      "\n",
      "                    “rice it was chewier. Enjoy the nuts that topped the dish. **vegetarian chickpea curry rice bowl - like a Thai coconut curry in case you were wondering what…”\n",
      "                        read more\n",
      "\n",
      "\n",
      "                    “Solid lunch spot! I get the lunch special special a couple times a week. My favorite is the spring rolls for appetizer and pad Thai for lunch. Quick delivery…”\n",
      "                        read more\n",
      "\n",
      "\n",
      "                    “It wasn't very good. The rice was okay but the pad thai was very underwhelming. Would definitely suggest going somewhere else.”\n",
      "                        read more\n",
      "\n",
      "\n",
      "                    “Chinese food it damn right better be. This food is the same food you can get at any great Thai or upscale Chinese resteraunt. There's really no difference in…”\n",
      "                        read more\n",
      "\n",
      "\n",
      "                    “I've visited this place a few times now. They're pretty consistent with food quality, service, and specials.   What a great lunch the chicken teriyaki bento…”\n",
      "                        read more\n",
      "\n",
      "\n",
      "                    “. Also the rice container was tiny. Hard to tell in photo but it was the smallest container of rice I've ever seen. The only thing I enjoyed was the Thai Iced…”\n",
      "                        read more\n",
      "\n",
      "\n",
      "                    “Horrible food. The pad Thai had 3 pieces of shrimp and was cooked with ketchup. The miso ramen didn't have enough salt and was extremely bland. Overall the…”\n",
      "                        read more\n",
      "\n",
      "\n",
      "                    “Le Viet delivered lunch catering to my company today through Fooda. Drunk noodles (spicy pad thai) are delicious! The best I've ever had for a while. The sauce…”\n",
      "                        read more\n",
      "\n",
      "\n",
      "                    “Since I work close by I have ordered from here and dropped in for lunch. I can honestly say this is the best Thai place around here. Their food is delicious…”\n",
      "                        read more\n",
      "\n",
      "\n",
      "                    “been the beef noodle soup, summer rolls and drunken noodles. They also do veggie very well here as a colleague of mine has ordered the noodle dishes with vegan…”\n",
      "                        read more\n",
      "\n",
      "\n",
      "                    “Um hello giant lunch! I ordered delivery for lunch on the Yelp app, and it came 30 mins earlier than expected -yayyyy. I got a Thai basil bento box which comes…”\n",
      "                        read more\n",
      "\n",
      "\n",
      "                    “The absolute worst Thai food I've ever had in my entire life. This is not an exaggeration. I ordered pad Thai and it was a soggy, salty, overly fish sauced,…”\n",
      "                        read more\n",
      "\n",
      "\n",
      "                    “the salad of the week or whatever the special is to appease the irritated crowd. It usually works. As much as I've tried to deviate and try out those specials…”\n",
      "                        read more\n",
      "\n",
      "\n",
      "                    “I've both eaten at the restaurant and ordered to pickup from the restaurant, and both times the food was fresh and prepared quickly. Very glad to have this…”\n",
      "                        read more\n",
      "\n",
      "\n",
      "                    “All their burgers and sandwiches are delicious. I've had the meat based ones in the past and was never disappointed. Decided to try the vegetarian Thai Chia…”\n",
      "                        read more\n",
      "\n",
      "\n",
      "                    “of same dish. they brought same dish with loads of oil and thai chillies in it. i will never ever go to this place again. really disappointed as heard very…”\n",
      "                        read more\n",
      "\n",
      "\n",
      "                    “shrimp (the best we've had anywhere)and the beef with Thai style basil sauce with veg. Elaine gets either the sashimi or the Glazed Chilean Sea Bass. Such a…”\n",
      "                        read more\n",
      "\n",
      "\n",
      "                    “and one curry. There is literally no difference between what we were served and what you would expect at your neighborhood Thai restaurant. The only difference…”\n",
      "                        read more\n",
      "\n",
      "\n",
      "                    “So yummy!! And the service was great and fast. The staff is much friendlier than the other thai restaurants on 2nd and the interior and exterior of the…”\n",
      "                        read more\n",
      "\n",
      "\n",
      "                    “, was sauceless inside. The taste was also off, and it took me a while to figure out the egg was missing. WTF??!! Every Thai knows that street food needs to…”\n",
      "                        read more\n",
      "\n",
      "\n",
      "                    “I went down 46th Street actually looking for an Italian deli food truck but didn't see it so instead I chose a food truck based on how many people were on…”\n",
      "                        read more\n",
      "\n",
      "\n",
      "                    “I ordered dinner prix fixe menu. Food was tasteless, service was poor, and prices were even higher than other Thai restaurants on E. 51st or E. 49th. Very…”\n",
      "                        read more\n",
      "\n",
      "\n",
      "                    “4 Stars because: they provide delicious and numerous soup options but have a small seating area with pricing that is okay.  Pros: Service goes fast and the…”\n",
      "                        read more\n",
      "\n",
      "\n",
      "                    “: The gyoza came on a styrofoam plate Miso soup in a plastic to go container Plastic spoons The pad Thai was bland with sticky eggs and large peanuts (if you…”\n",
      "                        read more\n",
      "\n",
      "\n",
      "                    “The Rad Thai was not very \"rad\" if you ask me .... All I have to say is that sweetgreen is not all that it's hyped up to be.”\n",
      "                        read more\n",
      "\n",
      "\n",
      "                    “I LOVE this place. There are so many wonderful ingredients, from toppings to dressings. Service was nice, food was delicious.”\n",
      "                        read more\n",
      "\n",
      "\n",
      "                    “Good portion size for their lunch specials which comes with soup or a simple salad, but taste was mediocre. I got a beef pad thai which was not authentic.…”\n",
      "                        read more\n",
      "\n",
      "\n",
      "                    “the pan fried ones were nicely fried and fillings were of high quality. My husband, who has no standards, enjoyed them. There's a school of thought that…”\n",
      "                        read more\n",
      "\n",
      "\n",
      "                    “I love this place! They do a very nice, classic Kung Pao Chicken(Chicken with Peanuts). The Thai specialties are quite nice, and if you ask really nicely,…”\n",
      "                        read more\n",
      "\n",
      "\n",
      "                    “Our go to place for Thai. It's a small shop but great for a date or 4 people. Food is always fresh and very friendly people. I always get pad de hu. Beef. I…”\n",
      "                        read more\n",
      "\n",
      "\n",
      "                    “. The combo comes with 4 dipping sauces, but the highlight here is the Thai chili mayo (definitely ask for extra). Next up, I decided to venture outside of my…”\n",
      "                        read more\n",
      "\n",
      "\n",
      "                    “This is my favorite Thai place I've had so far in the city. It's the first place I tried, and I've tried a couple other places in between, but I still stand by…”\n",
      "                        read more\n",
      "\n",
      "\n",
      "                    “with wasabi aioli, romaine lettuce, tomatoes, pickles Japanese ginger with a side of sweet potato fries, which was delicious. My friend had the Chicken Pad …”\n",
      "                        read more\n",
      "\n",
      "\n",
      "                    “(Tsaos, etc ) use the same sweet sauce. Not sure if was always this way, now I simply deliver from Harvest on 1st. It's very inexpensive chinese/thai take out,…”\n",
      "                        read more\n",
      "\n",
      "\n",
      "                    “The food at this spot is comparable in portion and flavor to anyone of the other Thai joints in the immediate area. What makes this spot pop for me is the…”\n",
      "                        read more\n",
      "\n",
      "\n",
      "                    “Consistent and quick. I have never ordered delivery, but when I call in orders to pick up (on average 4-5 times a month), it's ready within 15 minutes. Not a…”\n",
      "                        read more\n",
      "\n",
      "\n",
      "                    “I've been ordering from this place for the last seven years and this is seriously the best Chinese place on the UES. It's consistently good and always…”\n",
      "                        read more\n",
      "\n"
     ]
    }
   ],
   "source": [
    "for i in revs:\n",
    "    print(i.text)"
   ]
  },
  {
   "cell_type": "code",
   "execution_count": 27,
   "metadata": {},
   "outputs": [],
   "source": [
    "name = []\n",
    "rests = soup.find_all('a', {'data-analytics-label': 'biz-name'})\n",
    "\n",
    "for i in rests:\n",
    "    name.append(i.text)\n",
    " \n",
    "stars = []\n",
    "\n",
    "ratings = soup.find_all('div', {'class': 'biz-rating'})\n",
    "\n",
    "for i in ratings:\n",
    "    stars.append(i.div.attrs['title'])\n",
    "\n",
    "snip = []\n",
    "revs = soup.find_all('p', {'class': 'snippet'})\n",
    "for i in revs:\n",
    "    snip.append(i.text)"
   ]
  },
  {
   "cell_type": "code",
   "execution_count": 29,
   "metadata": {},
   "outputs": [],
   "source": [
    "df = pd.DataFrame({'name': name, 'stars': stars, 'rev_snip': snip})"
   ]
  },
  {
   "cell_type": "code",
   "execution_count": 30,
   "metadata": {},
   "outputs": [
    {
     "data": {
      "text/html": [
       "<div>\n",
       "<style scoped>\n",
       "    .dataframe tbody tr th:only-of-type {\n",
       "        vertical-align: middle;\n",
       "    }\n",
       "\n",
       "    .dataframe tbody tr th {\n",
       "        vertical-align: top;\n",
       "    }\n",
       "\n",
       "    .dataframe thead th {\n",
       "        text-align: right;\n",
       "    }\n",
       "</style>\n",
       "<table border=\"1\" class=\"dataframe\">\n",
       "  <thead>\n",
       "    <tr style=\"text-align: right;\">\n",
       "      <th></th>\n",
       "      <th>name</th>\n",
       "      <th>stars</th>\n",
       "      <th>rev_snip</th>\n",
       "    </tr>\n",
       "  </thead>\n",
       "  <tbody>\n",
       "    <tr>\n",
       "      <th>0</th>\n",
       "      <td>Ghang Thai Kitchen</td>\n",
       "      <td>3.5 star rating</td>\n",
       "      <td>\\n                    “A group of us were in n...</td>\n",
       "    </tr>\n",
       "    <tr>\n",
       "      <th>1</th>\n",
       "      <td>Le Botaniste</td>\n",
       "      <td>4.5 star rating</td>\n",
       "      <td>\\n                    “placed precisely with a...</td>\n",
       "    </tr>\n",
       "    <tr>\n",
       "      <th>2</th>\n",
       "      <td>SalaThai Restaurant</td>\n",
       "      <td>5.0 star rating</td>\n",
       "      <td>\\n                    “Quite possibly the best...</td>\n",
       "    </tr>\n",
       "    <tr>\n",
       "      <th>3</th>\n",
       "      <td>Bangklyn East Harlem</td>\n",
       "      <td>4.5 star rating</td>\n",
       "      <td>\\n                    “Love this place. Best T...</td>\n",
       "    </tr>\n",
       "    <tr>\n",
       "      <th>4</th>\n",
       "      <td>Sushi Ishikawa</td>\n",
       "      <td>4.5 star rating</td>\n",
       "      <td>\\n                    “on traditional sushi. H...</td>\n",
       "    </tr>\n",
       "  </tbody>\n",
       "</table>\n",
       "</div>"
      ],
      "text/plain": [
       "                   name            stars  \\\n",
       "0    Ghang Thai Kitchen  3.5 star rating   \n",
       "1          Le Botaniste  4.5 star rating   \n",
       "2   SalaThai Restaurant  5.0 star rating   \n",
       "3  Bangklyn East Harlem  4.5 star rating   \n",
       "4        Sushi Ishikawa  4.5 star rating   \n",
       "\n",
       "                                            rev_snip  \n",
       "0  \\n                    “A group of us were in n...  \n",
       "1  \\n                    “placed precisely with a...  \n",
       "2  \\n                    “Quite possibly the best...  \n",
       "3  \\n                    “Love this place. Best T...  \n",
       "4  \\n                    “on traditional sushi. H...  "
      ]
     },
     "execution_count": 30,
     "metadata": {},
     "output_type": "execute_result"
    }
   ],
   "source": [
    "df.head()"
   ]
  }
 ],
 "metadata": {
  "kernelspec": {
   "display_name": "Python 3",
   "language": "python",
   "name": "python3"
  },
  "language_info": {
   "codemirror_mode": {
    "name": "ipython",
    "version": 3
   },
   "file_extension": ".py",
   "mimetype": "text/x-python",
   "name": "python",
   "nbconvert_exporter": "python",
   "pygments_lexer": "ipython3",
   "version": "3.6.5"
  }
 },
 "nbformat": 4,
 "nbformat_minor": 2
}
